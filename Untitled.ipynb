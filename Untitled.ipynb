{
 "cells": [
  {
   "cell_type": "markdown",
   "id": "43a89af1",
   "metadata": {},
   "source": [
    "# MY DATA SCIENCE JOURNEY\n",
    "\n",
    "## IBM Data Science Professional Certificate on Coursera\n",
    "### 10 Course Series\n",
    "\n",
    "Over a span of 10 courses, I developed the skills, tools, and portfolio to gain a competitive edge in the job market as an entry-level data scientist. Throughout this program, I delved into the world of data science, which involves gathering, cleaning, organizing, and analyzing data with the goal of extracting insightful information and making predictions"
   ]
  },
  {
   "cell_type": "markdown",
   "id": "0e43ec16",
   "metadata": {},
   "source": [
    "[Click to see course page on Coursera](https://www.coursera.org/professional-certificates/ibm-data-science?)"
   ]
  },
  {
   "cell_type": "markdown",
   "id": "94616125",
   "metadata": {},
   "source": [
    "![Certificate](https://www.google.com/url?sa=i&url=https%3A%2F%2Fwww.classcentral.com%2Fcourse%2Fadvanced-data-science-capstone-11715&psig=AOvVaw2DZKGW4bkbAU3goxUpqibB&ust=1697363551890000&source=images&cd=vfe&opi=89978449&ved=0CBEQjRxqFwoTCJjUxY6i9YEDFQAAAAAdAAAAABAI)"
   ]
  },
  {
   "cell_type": "markdown",
   "id": "c4550397",
   "metadata": {},
   "source": [
    "### Key Achievements\n",
    "\n",
    "- Acquired in-demand skills used by professional data scientists, including **data visualization, machine learning, and statistical analysis**, with hands-on experience in tools like **Python, SQL, Jupyter notebooks**, and more.\n",
    "- Built a robust **data science portfolio**, and accessed IBM's Talent Network for job insights and personalized recommendations.\n",
    "- Completed this program, making me eligible for **up to 12 university credits**, enhancing both my academic and professional qualifications. The applied learning projects provided **practical skills relevant to real job scenarios**."
   ]
  },
  {
   "cell_type": "markdown",
   "id": "ac0df0c4",
   "metadata": {},
   "source": [
    "### Tools I Mastered:\n",
    "![Jupyter Logo](Uhttps://www.google.com/url?sa=i&url=https%3A%2F%2Ftowardsdatascience.com%2Fjupyter-lab-evolution-of-the-jupyter-notebook-5297cacde6b&psig=AOvVaw16SgTeXrM_n2BQkqYxSvdw&ust=1697364091158000&source=images&cd=vfe&opi=89978449&ved=0CBEQjRxqFwoTCKDGkpGk9YEDFQAAAAAdAAAAABAD)\n",
    "\n",
    "![GitHub Logo](URL_to_GitHub_Logo)\n",
    "\n",
    "![RStudio Logo](URL_to_RStudio_Logo)\n",
    "\n",
    "![Watson Studio Logo](URL_to_Watson_Studio_Logo)"
   ]
  },
  {
   "cell_type": "code",
   "execution_count": null,
   "id": "b0070114",
   "metadata": {},
   "outputs": [],
   "source": []
  }
 ],
 "metadata": {
  "kernelspec": {
   "display_name": "Python 3 (ipykernel)",
   "language": "python",
   "name": "python3"
  },
  "language_info": {
   "codemirror_mode": {
    "name": "ipython",
    "version": 3
   },
   "file_extension": ".py",
   "mimetype": "text/x-python",
   "name": "python",
   "nbconvert_exporter": "python",
   "pygments_lexer": "ipython3",
   "version": "3.11.3"
  }
 },
 "nbformat": 4,
 "nbformat_minor": 5
}
